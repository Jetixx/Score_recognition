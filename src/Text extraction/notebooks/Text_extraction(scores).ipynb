{
 "cells": [
  {
   "cell_type": "code",
   "execution_count": 0,
   "metadata": {
    "colab": {
     "base_uri": "https://localhost:8080/",
     "height": 1000
    },
    "colab_type": "code",
    "executionInfo": {
     "elapsed": 52062,
     "status": "ok",
     "timestamp": 1591631499167,
     "user": {
      "displayName": "Горохов Василий",
      "photoUrl": "",
      "userId": "08599150790202952144"
     },
     "user_tz": -180
    },
    "id": "6sugVMMUYiDL",
    "outputId": "09f71d36-f959-493f-9b9f-fa433a718e18"
   },
   "outputs": [
    {
     "name": "stdout",
     "output_type": "stream",
     "text": [
      "\r",
      "0% [Working]\r",
      "            \r",
      "Get:1 https://cloud.r-project.org/bin/linux/ubuntu bionic-cran35/ InRelease [3,626 B]\n",
      "\r",
      "0% [Connecting to archive.ubuntu.com (91.189.88.152)] [Connecting to security.u\r",
      "0% [Connecting to archive.ubuntu.com (91.189.88.152)] [Connecting to security.u\r",
      "                                                                               \r",
      "Ign:2 https://developer.download.nvidia.com/compute/cuda/repos/ubuntu1804/x86_64  InRelease\n",
      "\r",
      "0% [Connecting to archive.ubuntu.com (91.189.88.152)] [Connecting to security.u\r",
      "0% [1 InRelease gpgv 3,626 B] [Connecting to archive.ubuntu.com (91.189.88.152)\r",
      "                                                                               \r",
      "Ign:3 https://developer.download.nvidia.com/compute/machine-learning/repos/ubuntu1804/x86_64  InRelease\n",
      "\r",
      "0% [1 InRelease gpgv 3,626 B] [Connecting to archive.ubuntu.com (91.189.88.152)\r",
      "                                                                               \r",
      "Get:4 https://developer.download.nvidia.com/compute/cuda/repos/ubuntu1804/x86_64  Release [697 B]\n",
      "\r",
      "0% [1 InRelease gpgv 3,626 B] [Connecting to archive.ubuntu.com (91.189.88.152)\r",
      "                                                                               \r",
      "Hit:5 https://developer.download.nvidia.com/compute/machine-learning/repos/ubuntu1804/x86_64  Release\n",
      "Get:6 https://developer.download.nvidia.com/compute/cuda/repos/ubuntu1804/x86_64  Release.gpg [836 B]\n",
      "Get:7 http://security.ubuntu.com/ubuntu bionic-security InRelease [88.7 kB]\n",
      "Get:8 http://ppa.launchpad.net/alex-p/tesseract-ocr-devel/ubuntu bionic InRelease [15.4 kB]\n",
      "Hit:9 http://archive.ubuntu.com/ubuntu bionic InRelease\n",
      "Get:11 http://archive.ubuntu.com/ubuntu bionic-updates InRelease [88.7 kB]\n",
      "Ign:12 https://developer.download.nvidia.com/compute/cuda/repos/ubuntu1804/x86_64  Packages\n",
      "Get:12 https://developer.download.nvidia.com/compute/cuda/repos/ubuntu1804/x86_64  Packages [162 kB]\n",
      "Get:13 http://ppa.launchpad.net/graphics-drivers/ppa/ubuntu bionic InRelease [21.3 kB]\n",
      "Get:14 http://security.ubuntu.com/ubuntu bionic-security/main amd64 Packages [933 kB]\n",
      "Get:15 http://archive.ubuntu.com/ubuntu bionic-backports InRelease [74.6 kB]\n",
      "Get:16 http://ppa.launchpad.net/marutter/c2d4u3.5/ubuntu bionic InRelease [15.4 kB]\n",
      "Get:17 http://archive.ubuntu.com/ubuntu bionic-updates/universe amd64 Packages [1,387 kB]\n",
      "Get:18 http://ppa.launchpad.net/alex-p/tesseract-ocr-devel/ubuntu bionic/main amd64 Packages [26.0 kB]\n",
      "Get:19 http://security.ubuntu.com/ubuntu bionic-security/universe amd64 Packages [856 kB]\n",
      "Get:20 http://archive.ubuntu.com/ubuntu bionic-updates/main amd64 Packages [1,230 kB]\n",
      "Get:21 http://ppa.launchpad.net/graphics-drivers/ppa/ubuntu bionic/main amd64 Packages [37.4 kB]\n",
      "Get:22 http://ppa.launchpad.net/marutter/c2d4u3.5/ubuntu bionic/main Sources [1,830 kB]\n",
      "Get:23 http://ppa.launchpad.net/marutter/c2d4u3.5/ubuntu bionic/main amd64 Packages [882 kB]\n",
      "Fetched 7,653 kB in 5s (1,693 kB/s)\n",
      "Reading package lists... Done\n",
      "Ign:1 https://developer.download.nvidia.com/compute/cuda/repos/ubuntu1804/x86_64  InRelease\n",
      "Ign:2 https://developer.download.nvidia.com/compute/machine-learning/repos/ubuntu1804/x86_64  InRelease\n",
      "Hit:3 https://developer.download.nvidia.com/compute/cuda/repos/ubuntu1804/x86_64  Release\n",
      "Hit:4 https://cloud.r-project.org/bin/linux/ubuntu bionic-cran35/ InRelease\n",
      "Hit:5 https://developer.download.nvidia.com/compute/machine-learning/repos/ubuntu1804/x86_64  Release\n",
      "Hit:7 http://ppa.launchpad.net/alex-p/tesseract-ocr-devel/ubuntu bionic InRelease\n",
      "Hit:8 http://archive.ubuntu.com/ubuntu bionic InRelease\n",
      "Hit:9 http://security.ubuntu.com/ubuntu bionic-security InRelease\n",
      "Hit:11 http://archive.ubuntu.com/ubuntu bionic-updates InRelease\n",
      "Hit:12 http://ppa.launchpad.net/graphics-drivers/ppa/ubuntu bionic InRelease\n",
      "Hit:13 http://archive.ubuntu.com/ubuntu bionic-backports InRelease\n",
      "Hit:14 http://ppa.launchpad.net/marutter/c2d4u3.5/ubuntu bionic InRelease\n",
      "Reading package lists... Done\n",
      "Reading package lists... Done\n",
      "Building dependency tree       \n",
      "Reading state information... Done\n",
      "The following additional packages will be installed:\n",
      "  libtesseract5 tesseract-ocr-eng tesseract-ocr-osd\n",
      "The following NEW packages will be installed:\n",
      "  libtesseract5 tesseract-ocr tesseract-ocr-eng tesseract-ocr-osd\n",
      "0 upgraded, 4 newly installed, 0 to remove and 65 not upgraded.\n",
      "Need to get 6,232 kB of archives.\n",
      "After this operation, 20.2 MB of additional disk space will be used.\n",
      "Get:1 http://ppa.launchpad.net/alex-p/tesseract-ocr-devel/ubuntu bionic/main amd64 libtesseract5 amd64 5.0.0~git4536-a06d0d84-1ppa1~bionic1 [1,250 kB]\n",
      "Get:2 http://ppa.launchpad.net/alex-p/tesseract-ocr-devel/ubuntu bionic/main amd64 tesseract-ocr-eng all 1:5.0.0~git39-6572757-2ppa1~bionic1 [1,590 kB]\n",
      "Get:3 http://ppa.launchpad.net/alex-p/tesseract-ocr-devel/ubuntu bionic/main amd64 tesseract-ocr-osd all 1:5.0.0~git39-6572757-2ppa1~bionic1 [2,991 kB]\n",
      "Get:4 http://ppa.launchpad.net/alex-p/tesseract-ocr-devel/ubuntu bionic/main amd64 tesseract-ocr amd64 5.0.0~git4536-a06d0d84-1ppa1~bionic1 [402 kB]\n",
      "Fetched 6,232 kB in 5s (1,201 kB/s)\n",
      "Selecting previously unselected package libtesseract5:amd64.\n",
      "(Reading database ... 144467 files and directories currently installed.)\n",
      "Preparing to unpack .../libtesseract5_5.0.0~git4536-a06d0d84-1ppa1~bionic1_amd64.deb ...\n",
      "Unpacking libtesseract5:amd64 (5.0.0~git4536-a06d0d84-1ppa1~bionic1) ...\n",
      "Selecting previously unselected package tesseract-ocr-eng.\n",
      "Preparing to unpack .../tesseract-ocr-eng_1%3a5.0.0~git39-6572757-2ppa1~bionic1_all.deb ...\n",
      "Unpacking tesseract-ocr-eng (1:5.0.0~git39-6572757-2ppa1~bionic1) ...\n",
      "Selecting previously unselected package tesseract-ocr-osd.\n",
      "Preparing to unpack .../tesseract-ocr-osd_1%3a5.0.0~git39-6572757-2ppa1~bionic1_all.deb ...\n",
      "Unpacking tesseract-ocr-osd (1:5.0.0~git39-6572757-2ppa1~bionic1) ...\n",
      "Selecting previously unselected package tesseract-ocr.\n",
      "Preparing to unpack .../tesseract-ocr_5.0.0~git4536-a06d0d84-1ppa1~bionic1_amd64.deb ...\n",
      "Unpacking tesseract-ocr (5.0.0~git4536-a06d0d84-1ppa1~bionic1) ...\n",
      "Setting up tesseract-ocr-osd (1:5.0.0~git39-6572757-2ppa1~bionic1) ...\n",
      "Setting up tesseract-ocr-eng (1:5.0.0~git39-6572757-2ppa1~bionic1) ...\n",
      "Setting up libtesseract5:amd64 (5.0.0~git4536-a06d0d84-1ppa1~bionic1) ...\n",
      "Setting up tesseract-ocr (5.0.0~git4536-a06d0d84-1ppa1~bionic1) ...\n",
      "Processing triggers for man-db (2.8.3-2ubuntu0.1) ...\n",
      "Processing triggers for libc-bin (2.27-3ubuntu1) ...\n",
      "/sbin/ldconfig.real: /usr/local/lib/python3.6/dist-packages/ideep4py/lib/libmkldnn.so.0 is not a symbolic link\n",
      "\n",
      "Reading package lists... Done\n",
      "Building dependency tree       \n",
      "Reading state information... Done\n",
      "The following additional packages will be installed:\n",
      "  libarchive-dev liblept5 libleptonica-dev\n",
      "The following NEW packages will be installed:\n",
      "  libarchive-dev libleptonica-dev libtesseract-dev\n",
      "The following packages will be upgraded:\n",
      "  liblept5\n",
      "1 upgraded, 3 newly installed, 0 to remove and 64 not upgraded.\n",
      "Need to get 4,308 kB of archives.\n",
      "After this operation, 15.2 MB of additional disk space will be used.\n",
      "Get:1 http://ppa.launchpad.net/alex-p/tesseract-ocr-devel/ubuntu bionic/main amd64 liblept5 amd64 1.78.0-1+nmu1ppa1~bionic1 [985 kB]\n",
      "Get:2 http://archive.ubuntu.com/ubuntu bionic-updates/main amd64 libarchive-dev amd64 3.2.2-3.1ubuntu0.6 [470 kB]\n",
      "Get:3 http://ppa.launchpad.net/alex-p/tesseract-ocr-devel/ubuntu bionic/main amd64 libleptonica-dev amd64 1.78.0-1+nmu1ppa1~bionic1 [1,375 kB]\n",
      "Get:4 http://ppa.launchpad.net/alex-p/tesseract-ocr-devel/ubuntu bionic/main amd64 libtesseract-dev amd64 5.0.0~git4536-a06d0d84-1ppa1~bionic1 [1,477 kB]\n",
      "Fetched 4,308 kB in 4s (1,092 kB/s)\n",
      "Selecting previously unselected package libarchive-dev:amd64.\n",
      "(Reading database ... 144555 files and directories currently installed.)\n",
      "Preparing to unpack .../libarchive-dev_3.2.2-3.1ubuntu0.6_amd64.deb ...\n",
      "Unpacking libarchive-dev:amd64 (3.2.2-3.1ubuntu0.6) ...\n",
      "Preparing to unpack .../liblept5_1.78.0-1+nmu1ppa1~bionic1_amd64.deb ...\n",
      "Unpacking liblept5 (1.78.0-1+nmu1ppa1~bionic1) over (1.75.3-3) ...\n",
      "Selecting previously unselected package libleptonica-dev.\n",
      "Preparing to unpack .../libleptonica-dev_1.78.0-1+nmu1ppa1~bionic1_amd64.deb ...\n",
      "Unpacking libleptonica-dev (1.78.0-1+nmu1ppa1~bionic1) ...\n",
      "Selecting previously unselected package libtesseract-dev:amd64.\n",
      "Preparing to unpack .../libtesseract-dev_5.0.0~git4536-a06d0d84-1ppa1~bionic1_amd64.deb ...\n",
      "Unpacking libtesseract-dev:amd64 (5.0.0~git4536-a06d0d84-1ppa1~bionic1) ...\n",
      "Setting up liblept5 (1.78.0-1+nmu1ppa1~bionic1) ...\n",
      "Setting up libarchive-dev:amd64 (3.2.2-3.1ubuntu0.6) ...\n",
      "Setting up libleptonica-dev (1.78.0-1+nmu1ppa1~bionic1) ...\n",
      "Setting up libtesseract-dev:amd64 (5.0.0~git4536-a06d0d84-1ppa1~bionic1) ...\n",
      "Processing triggers for libc-bin (2.27-3ubuntu1) ...\n",
      "/sbin/ldconfig.real: /usr/local/lib/python3.6/dist-packages/ideep4py/lib/libmkldnn.so.0 is not a symbolic link\n",
      "\n",
      "Processing triggers for man-db (2.8.3-2ubuntu0.1) ...\n",
      "Collecting pytesseract\n",
      "  Downloading https://files.pythonhosted.org/packages/1d/d8/521db389ff0aae32035bfda6ed39cb2c2e28521c47015f6431f07460c50a/pytesseract-0.3.4.tar.gz\n",
      "Requirement already satisfied: Pillow in /usr/local/lib/python3.6/dist-packages (from pytesseract) (7.0.0)\n",
      "Building wheels for collected packages: pytesseract\n",
      "  Building wheel for pytesseract (setup.py) ... \u001b[?25l\u001b[?25hdone\n",
      "  Created wheel for pytesseract: filename=pytesseract-0.3.4-py2.py3-none-any.whl size=13431 sha256=1730b6de7c066fd9340628f8e52aa8ad7245f05f239ab1cd3c3d39c51a986523\n",
      "  Stored in directory: /root/.cache/pip/wheels/63/2a/a0/7596d2e0a73cf0aeffd6f6170862c4e73f3763b7827e48691a\n",
      "Successfully built pytesseract\n",
      "Installing collected packages: pytesseract\n",
      "Successfully installed pytesseract-0.3.4\n",
      "Collecting imantics\n",
      "  Downloading https://files.pythonhosted.org/packages/1a/ff/8f92fa03b42f14860bc882d08187b359d3b8f9ef670d4efbed090d451c58/imantics-0.1.12.tar.gz\n",
      "Requirement already satisfied: numpy in /usr/local/lib/python3.6/dist-packages (from imantics) (1.18.4)\n",
      "Requirement already satisfied: opencv-python>=3 in /usr/local/lib/python3.6/dist-packages (from imantics) (4.1.2.30)\n",
      "Requirement already satisfied: lxml in /usr/local/lib/python3.6/dist-packages (from imantics) (4.2.6)\n",
      "Collecting xmljson\n",
      "  Downloading https://files.pythonhosted.org/packages/91/2d/7191efe15406b8b99e2b5905ca676a8a3dc2936416ade7ed17752902c250/xmljson-0.2.1-py2.py3-none-any.whl\n",
      "Building wheels for collected packages: imantics\n",
      "  Building wheel for imantics (setup.py) ... \u001b[?25l\u001b[?25hdone\n",
      "  Created wheel for imantics: filename=imantics-0.1.12-cp36-none-any.whl size=16034 sha256=1ad341d32a5951ffba2d7d10dc7d79c95fa4a28df5abeb67f494f6e9bd1eca55\n",
      "  Stored in directory: /root/.cache/pip/wheels/73/93/1c/9e2fc52eb74441941bc76cac441ddcc2c7ad67b18e1849e62a\n",
      "Successfully built imantics\n",
      "Installing collected packages: xmljson, imantics\n",
      "Successfully installed imantics-0.1.12 xmljson-0.2.1\n"
     ]
    }
   ],
   "source": [
    "#Installation of tesseract - the main tool for text extraction\n",
    "!sudo add-apt-repository ppa:alex-p/tesseract-ocr-devel -y\n",
    "!sudo apt-get update\n",
    "!apt install tesseract-ocr\n",
    "!apt install libtesseract-dev\n",
    "!pip install pytesseract\n",
    "!pip install imantics"
   ]
  },
  {
   "cell_type": "code",
   "execution_count": 0,
   "metadata": {
    "colab": {
     "base_uri": "https://localhost:8080/",
     "height": 224
    },
    "colab_type": "code",
    "executionInfo": {
     "elapsed": 9252,
     "status": "ok",
     "timestamp": 1591631623302,
     "user": {
      "displayName": "Горохов Василий",
      "photoUrl": "",
      "userId": "08599150790202952144"
     },
     "user_tz": -180
    },
    "id": "nwm_u8ebovoM",
    "outputId": "a1aee6ca-63d7-43df-addf-7d7d903093c3"
   },
   "outputs": [
    {
     "name": "stdout",
     "output_type": "stream",
     "text": [
      "Collecting python-Levenshtein\n",
      "\u001b[?25l  Downloading https://files.pythonhosted.org/packages/42/a9/d1785c85ebf9b7dfacd08938dd028209c34a0ea3b1bcdb895208bd40a67d/python-Levenshtein-0.12.0.tar.gz (48kB)\n",
      "\r",
      "\u001b[K     |██████▊                         | 10kB 18.6MB/s eta 0:00:01\r",
      "\u001b[K     |█████████████▌                  | 20kB 3.0MB/s eta 0:00:01\r",
      "\u001b[K     |████████████████████▏           | 30kB 3.9MB/s eta 0:00:01\r",
      "\u001b[K     |███████████████████████████     | 40kB 4.3MB/s eta 0:00:01\r",
      "\u001b[K     |████████████████████████████████| 51kB 2.3MB/s \n",
      "\u001b[?25hRequirement already satisfied: setuptools in /usr/local/lib/python3.6/dist-packages (from python-Levenshtein) (47.1.1)\n",
      "Building wheels for collected packages: python-Levenshtein\n",
      "  Building wheel for python-Levenshtein (setup.py) ... \u001b[?25l\u001b[?25hdone\n",
      "  Created wheel for python-Levenshtein: filename=python_Levenshtein-0.12.0-cp36-cp36m-linux_x86_64.whl size=144796 sha256=07b3494fe1ba1f193a3f8e8661d76735dd675545dca05f1403fd98d50c2a7b81\n",
      "  Stored in directory: /root/.cache/pip/wheels/de/c2/93/660fd5f7559049268ad2dc6d81c4e39e9e36518766eaf7e342\n",
      "Successfully built python-Levenshtein\n",
      "Installing collected packages: python-Levenshtein\n",
      "Successfully installed python-Levenshtein-0.12.0\n"
     ]
    }
   ],
   "source": [
    "!pip install python-Levenshtein"
   ]
  },
  {
   "cell_type": "code",
   "execution_count": 0,
   "metadata": {
    "colab": {
     "base_uri": "https://localhost:8080/",
     "height": 34
    },
    "colab_type": "code",
    "executionInfo": {
     "elapsed": 1776,
     "status": "ok",
     "timestamp": 1591631993746,
     "user": {
      "displayName": "Горохов Василий",
      "photoUrl": "",
      "userId": "08599150790202952144"
     },
     "user_tz": -180
    },
    "id": "jfsQuk0yoXBY",
    "outputId": "aae0bf0b-ac2f-482c-efc6-5fe0dc319f89"
   },
   "outputs": [
    {
     "name": "stdout",
     "output_type": "stream",
     "text": [
      "Mounted at /content/drive\n"
     ]
    }
   ],
   "source": [
    "#importing tools for data visualisation, math operations with matrices and tensors(Keras, numpy), and text extraction(pytesseract)\n",
    "from keras import utils\n",
    "import keras_preprocessing.image.utils as image_utils\n",
    "from PIL import Image, ImageDraw\n",
    "from imantics import Mask\n",
    "import glob\n",
    "import matplotlib.pyplot as plt\n",
    "import cv2\n",
    "import numpy as np\n",
    "import pytesseract\n",
    "import pandas as pd\n",
    "import csv\n",
    "from Levenshtein import *\n",
    "\n",
    "\n",
    "WORKDIR = \"src/Text extraction\""
   ]
  },
  {
   "cell_type": "code",
   "execution_count": 0,
   "metadata": {
    "colab": {},
    "colab_type": "code",
    "id": "Hf6O3F-yKYU_"
   },
   "outputs": [],
   "source": [
    "def getCvImage(name):\n",
    "  gray = cv2.imread(name, cv2.IMREAD_GRAYSCALE)\n",
    "  for i in range(gray.shape[0]):\n",
    "    for j in range(gray.shape[1]):\n",
    "      gray[i][j] = 255 - gray[i][j]\n",
    "  return gray\n",
    "\n",
    "def getPilImage(name):\n",
    "  img = Image.open(name).convert('LA')\n",
    "  arr = np.array(img)\n",
    "  for i in range(len(arr)):\n",
    "    for j in range(len(arr[i])):\n",
    "      arr[i][j][0] = 255 - arr[i][j][0]\n",
    "  img = Image.fromarray(arr)\n",
    "  return img"
   ]
  },
  {
   "cell_type": "code",
   "execution_count": 0,
   "metadata": {
    "colab": {},
    "colab_type": "code",
    "id": "9JTjD0zEpJaJ"
   },
   "outputs": [],
   "source": [
    "#Loading scores\n",
    "\n",
    "reader = csv.DictReader(open(\"src/Text extraction/csv/tesseract_dataset.csv\"))\n",
    "scores = []\n",
    "for raw in reader:\n",
    "    dictt = {}\n",
    "    strin = list(raw['image_name;team_score1;team_score2'].split(';'))\n",
    "    dictt['image_name'] = strin[0]\n",
    "    dictt['team_score1'] = strin[1]\n",
    "    dictt['team_score2'] = strin[2]\n",
    "    scores.append(dictt)"
   ]
  },
  {
   "cell_type": "code",
   "execution_count": null,
   "metadata": {
    "colab": {
     "base_uri": "https://localhost:8080/",
     "height": 85
    },
    "colab_type": "code",
    "executionInfo": {
     "elapsed": 75524,
     "status": "ok",
     "timestamp": 1591633041383,
     "user": {
      "displayName": "Горохов Василий",
      "photoUrl": "",
      "userId": "08599150790202952144"
     },
     "user_tz": -180
    },
    "id": "z1VRzaYb7d2q",
    "outputId": "20797a06-3f53-464e-a2e8-ea1fb0472bae"
   },
   "outputs": [],
   "source": [
    "#Validation of standard and learned models\n",
    "\n",
    "empty = []\n",
    "normal = []\n",
    "counter = 0\n",
    "gs_counter = 0\n",
    "all_len = 0\n",
    "plt.figure(figsize=(30,10))\n",
    "z=0\n",
    "for filename in glob.glob(WORKDIR + '/datasets/tesseract_score/train/*.png'):\n",
    "  img1 = getCvImage(filename)\n",
    "  img2 = getPilImage(filename)\n",
    "  pred1 = pytesseract.image_to_string(img1, config = '--psm 6 -c tessedit_char_whitelist=\"0123456789\"')\n",
    "  pred2 = pytesseract.image_to_string(img2, config = '--psm 6 -c tessedit_char_whitelist=\"0123456789\"')\n",
    "  st = list(filename.split(\"/\"))\n",
    "  if pred1 == '' or pred2 == '':\n",
    "    empty.append(st[-2] + \"/\" +st[-1])\n",
    "  st = list(filename.split(\"/\"))\n",
    "  name = st[-1].split(\"_\")\n",
    "  for score in scores:\n",
    "    if score['image_name'] == name[1]:\n",
    "      if name[0] == '1' and pred1 == score['team_score1']:\n",
    "        #counter+=1\n",
    "        normal.append(st[-2] + \"/\" +st[-1])\n",
    "      elif name[0] == '2' and pred1 == score['team_score2']:\n",
    "        #counter+=1\n",
    "        normal.append(st[-2] + \"/\" +st[-1])\n",
    "\n",
    "plt.show()\n",
    "dist = 0\n",
    "gs_dist = 0\n",
    "for filename in glob.glob(WORKDIR + '/datasets/tessaract_score/test/*.png'):\n",
    "  img1 = getCvImage(filename)\n",
    "  pred1 = pytesseract.image_to_string(img1, config = '--psm 6 -c tessedit_char_whitelist=\"0123456789\"')\n",
    "  pred2 = pytesseract.image_to_string(img1, lang=\"game_score\", config = '--psm 6 -c tessedit_char_whitelist=\"0123456789\"')\n",
    "  st = list(filename.split(\"/\"))\n",
    "  if pred1 == '' or pred2 == '':\n",
    "    empty.append(st[-2] + \"/\" +st[-1])\n",
    "  st = list(filename.split(\"/\"))\n",
    "  name = st[-1].split(\"_\")\n",
    "  for score in scores:\n",
    "    if score['image_name'] == name[1]:\n",
    "      if name[0] == '1':\n",
    "        all_len+=len(score[\"team_score1\"])\n",
    "        dist+=distance(pred1, score['team_score1'])\n",
    "        if distance(pred1, score['team_score1']) == 0:\n",
    "          counter+=1\n",
    "        gs_dist+=distance(pred2, score['team_score1'])\n",
    "        if distance(pred2, score['team_score1']) == 0:\n",
    "          gs_counter+=1\n",
    "        normal.append(st[-2] + \"/\" +st[-1])\n",
    "      elif name[0] == '2':\n",
    "        all_len+=len(score[\"team_score2\"])\n",
    "        dist+=distance(pred1, score['team_score2'])\n",
    "        if distance(pred1, score['team_score2']) == 0:\n",
    "          counter+=1\n",
    "        gs_dist+=distance(pred2, score['team_score2'])\n",
    "        if distance(pred2, score['team_score2']) == 0:\n",
    "          gs_counter+=1\n",
    "        normal.append(st[-2] + \"/\" +st[-1])\n",
    "\n",
    "\n",
    "\n",
    "for filename in glob.glob(WORKDIR + '/datasets/tesseract_score/validation/*.png'):\n",
    "  img1 = getCvImage(filename)\n",
    "  pred1 = pytesseract.image_to_string(img1, config = '--psm 6 -c tessedit_char_whitelist=\"0123456789\"')\n",
    "  pred2 = pytesseract.image_to_string(img1, lang=\"game_score\", config = '--psm 6 -c tessedit_char_whitelist=\"0123456789\"')\n",
    "  st = list(filename.split(\"/\"))\n",
    "  if pred1 == '' or pred2 == '':\n",
    "    empty.append(st[-2] + \"/\" +st[-1])\n",
    "  st = list(filename.split(\"/\"))\n",
    "  name = st[-1].split(\"_\")\n",
    "  for score in scores:\n",
    "    if score['image_name'] == name[1]:\n",
    "      if name[0] == '1':\n",
    "        all_len+=len(score[\"team_score1\"])\n",
    "        dist+=distance(pred1, score['team_score1'])\n",
    "        if distance(pred1, score['team_score1']) == 0:\n",
    "          counter+=1\n",
    "        gs_dist+=distance(pred2, score['team_score1'])\n",
    "        if distance(pred2, score['team_score1']) == 0:\n",
    "          gs_counter+=1\n",
    "        normal.append(st[-2] + \"/\" +st[-1])\n",
    "      elif name[0] == '2':\n",
    "        all_len+=len(score[\"team_score2\"])\n",
    "        dist+=distance(pred1, score['team_score2'])\n",
    "        if distance(pred1, score['team_score2']) == 0:\n",
    "          counter+=1\n",
    "        gs_dist+=distance(pred2, score['team_score2'])\n",
    "        if distance(pred2, score['team_score2']) == 0:\n",
    "          gs_counter+=1\n",
    "        normal.append(st[-2] + \"/\" +st[-1])\n",
    "\n",
    "\n",
    "print(\"Standard accuracy: \", counter/80, \"Learned model accuracy: \", gs_counter/80)\n",
    "print(\"Standard Levenshtein: \", dist, \"Learned model Levenshtein: \", gs_dist)\n",
    "print(\"Standard error: \", dist/all_len, \"Learned model error: \", gs_dist/all_len)"
   ]
  },
  {
   "cell_type": "code",
   "execution_count": 0,
   "metadata": {
    "colab": {
     "base_uri": "https://localhost:8080/",
     "height": 34
    },
    "colab_type": "code",
    "executionInfo": {
     "elapsed": 6138,
     "status": "ok",
     "timestamp": 1588949261954,
     "user": {
      "displayName": "Горохов Василий",
      "photoUrl": "",
      "userId": "08599150790202952144"
     },
     "user_tz": -180
    },
    "id": "NOT_QtMe6MsE",
    "outputId": "9629788a-f5c4-4fdc-9755-f76194a521bd"
   },
   "outputs": [
    {
     "name": "stdout",
     "output_type": "stream",
     "text": [
      "/content/drive/My Drive/Colab Notebooks/Screen segmentation/datasets/tessaract2/train/blackwhite\n"
     ]
    }
   ],
   "source": [
    "#Model training\n",
    "\n",
    "%cd /content/drive/My\\ Drive/Colab\\ Notebooks/Screen\\ segmentation/datasets/tessaract2/train/blackwhite\n",
    "!ls -1 *.lstmf > all-lstmf"
   ]
  },
  {
   "cell_type": "code",
   "execution_count": 0,
   "metadata": {
    "colab": {},
    "colab_type": "code",
    "id": "AlVKVkN5xAn0"
   },
   "outputs": [],
   "source": [
    "!lstmtraining \\\n",
    "  --continue_from /content/drive/My\\ Drive/Colab\\ Notebooks/Screen\\ segmentation/datasets/tessaract2/train/blackwhite/eng.lstm \\\n",
    "  --model_output /content/drive/My\\ Drive/Colab\\ Notebooks/Text\\ extraction/checkpoints/chechpoint \\\n",
    "  --traineddata /content/drive/My\\ Drive/Colab\\ Notebooks/Screen\\ segmentation/datasets/tessaract2/train/blackwhite/eng.traineddata \\\n",
    "  --train_listfile all-lstmf \\\n",
    "  --max_iterations 3000"
   ]
  },
  {
   "cell_type": "code",
   "execution_count": 0,
   "metadata": {
    "colab": {
     "base_uri": "https://localhost:8080/",
     "height": 34
    },
    "colab_type": "code",
    "executionInfo": {
     "elapsed": 2277,
     "status": "ok",
     "timestamp": 1588951520632,
     "user": {
      "displayName": "Горохов Василий",
      "photoUrl": "",
      "userId": "08599150790202952144"
     },
     "user_tz": -180
    },
    "id": "FRgE7lMf4yu7",
    "outputId": "222fcdd7-965c-4087-a045-b16e30b10d4d"
   },
   "outputs": [
    {
     "name": "stdout",
     "output_type": "stream",
     "text": [
      "Loaded file /content/drive/My Drive/Colab Notebooks/Text extraction/checkpoints/chechpoint_checkpoint, unpacking...\n"
     ]
    }
   ],
   "source": [
    "!lstmtraining --stop_training \\\n",
    "  --continue_from src/Text\\ extraction/checkpoints/chechpoint_checkpoint \\\n",
    "  --traineddata src/Screen\\ segmentation/datasets/tessaract2/train/blackwhite/eng.traineddata \\\n",
    "  --model_output src/Text\\ extraction/game_score.traineddata"
   ]
  },
  {
   "cell_type": "code",
   "execution_count": 0,
   "metadata": {
    "colab": {},
    "colab_type": "code",
    "id": "RoHMWSnL6exy"
   },
   "outputs": [],
   "source": [
    "!cp 'src/Text extraction/traineddata/game_score.traineddata' /usr/share/tesseract-ocr/5/tessdata/game_score.traineddata"
   ]
  }
 ],
 "metadata": {
  "colab": {
   "authorship_tag": "ABX9TyOM6jLm2X1jeiMbVNma6GA2",
   "collapsed_sections": [],
   "name": "Text_extraction(scores).ipynb",
   "provenance": []
  },
  "kernelspec": {
   "display_name": "Python 3",
   "language": "python",
   "name": "python3"
  },
  "language_info": {
   "codemirror_mode": {
    "name": "ipython",
    "version": 3
   },
   "file_extension": ".py",
   "mimetype": "text/x-python",
   "name": "python",
   "nbconvert_exporter": "python",
   "pygments_lexer": "ipython3",
   "version": "3.7.3"
  }
 },
 "nbformat": 4,
 "nbformat_minor": 1
}
